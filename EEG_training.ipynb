{
 "cells": [
  {
   "cell_type": "markdown",
   "metadata": {},
   "source": [
    "### Current Issue 7/3\n",
    "1. Determine how many samples to use (segments)\n",
    "2. Determine the exact artifact removal method\n",
    "3. Increase the overall accuracy"
   ]
  },
  {
   "cell_type": "code",
   "execution_count": 134,
   "metadata": {},
   "outputs": [],
   "source": [
    "import numpy as np\n",
    "import pandas as pd\n",
    "import matplotlib.pyplot as plt\n",
    "import os\n",
    "import mne\n",
    "import random\n",
    "\n",
    "## Feature extraction method\n",
    "from scipy import signal\n",
    "from sklearn.decomposition import FastICA, PCA"
   ]
  },
  {
   "cell_type": "markdown",
   "metadata": {},
   "source": [
    "### Dataset\n",
    "Using a person's 3 different mental states, relaxed, neutral, concetrating<br>\n",
    "- `trials = 3, channels = 4, samples = 15204 * 0.75, kernels = 1`"
   ]
  },
  {
   "cell_type": "markdown",
   "metadata": {},
   "source": [
    "#### Demo 1, using a subset of dataset"
   ]
  },
  {
   "cell_type": "code",
   "execution_count": 2,
   "metadata": {},
   "outputs": [
    {
     "name": "stdout",
     "output_type": "stream",
     "text": [
      "sub_a_relaxed' shape: (15204, 6)\n",
      "sub_a_neutral' shape: (15204, 6)\n",
      "sub_a_concentrating' shape: (15192, 6)\n"
     ]
    }
   ],
   "source": [
    "sub_a_relaxed = pd.read_csv(os.getcwd() + '/eeg-feature-generation/dataset/original_data/subjecta-relaxed-1.csv')\n",
    "print('sub_a_relaxed\\' shape: {}'.format(sub_a_relaxed.shape))\n",
    "\n",
    "sub_a_neutral = pd.read_csv(os.getcwd() + '/eeg-feature-generation/dataset/original_data/subjecta-neutral-1.csv')\n",
    "print('sub_a_neutral\\' shape: {}'.format(sub_a_neutral.shape))\n",
    "\n",
    "sub_a_concentrating = pd.read_csv(os.getcwd() + '/eeg-feature-generation/dataset/original_data/subjecta-concentrating-1.csv')\n",
    "print('sub_a_concentrating\\' shape: {}'.format(sub_a_concentrating.shape))"
   ]
  },
  {
   "cell_type": "markdown",
   "metadata": {},
   "source": [
    "#### Demo 2, using the whole dataset\n",
    "- Matched the number of samples to 888, the df with the lowest number of rows"
   ]
  },
  {
   "cell_type": "code",
   "execution_count": 251,
   "metadata": {},
   "outputs": [
    {
     "name": "stdout",
     "output_type": "stream",
     "text": [
      "subjecta-concentrating-1.csv, shape = ((888, 4))\n",
      "subjectd-neutral-2.csv, shape = ((888, 4))\n",
      "subjectd-neutral-1.csv, shape = ((888, 4))\n",
      "subjecta-neutral-1.csv, shape = ((888, 4))\n",
      "subjectb-concentrating-2.csv, shape = ((888, 4))\n",
      "subjectb-relaxed-1.csv, shape = ((888, 4))\n",
      "subjectb-neutral-2.csv, shape = ((888, 4))\n",
      "subjectb-neutral-1.csv, shape = ((888, 4))\n",
      "subjectd-concentrating-1.csv, shape = ((888, 4))\n",
      "subjectd-concentrating-2.csv, shape = ((888, 4))\n",
      "subjectc-neutral-1.csv, shape = ((888, 4))\n",
      "subjecta-neutral-2.csv, shape = ((888, 4))\n",
      "subjecta-relaxed-2.csv, shape = ((888, 4))\n",
      "subjectc-concentrating-1.csv, shape = ((888, 4))\n",
      "subjectb-concentrating-1.csv, shape = ((888, 4))\n",
      "subjecta-concentrating-2.csv, shape = ((888, 4))\n",
      "subjectc-relaxed-1.csv, shape = ((888, 4))\n",
      "subjectd-relaxed-2.csv, shape = ((888, 4))\n",
      "subjectc-neutral-2.csv, shape = ((888, 4))\n",
      "subjecta-relaxed-1.csv, shape = ((888, 4))\n",
      "subjectd-relaxed-1.csv, shape = ((888, 4))\n",
      "subjectc-relaxed-2.csv, shape = ((888, 4))\n",
      "subjectb-relaxed-2.csv, shape = ((888, 4))\n",
      "subjectc-concentrating-2.csv, shape = ((888, 4))\n"
     ]
    }
   ],
   "source": [
    "directory = os.getcwd() + '/eeg-feature-generation/dataset/original_data/'\n",
    "files = os.listdir(directory)\n",
    "random.shuffle(files)\n",
    "\n",
    "data = []\n",
    "labels = []\n",
    "\n",
    "\n",
    "for filename in files:\n",
    "    if 'subject' in filename:\n",
    "        df = pd.read_csv(directory + filename)\n",
    "        df = df.drop(columns=['timestamps','Right AUX'])\n",
    "        df = df[:888]\n",
    "        if 'relaxed' in filename:\n",
    "            labels.append(0)\n",
    "        elif 'neutral' in filename:\n",
    "            labels.append(1)\n",
    "        elif 'concentrating' in filename:\n",
    "            labels.append(2)\n",
    "        data.append(df)\n",
    "        if len(df) < 15192:\n",
    "            print('{}, shape = ({})'.format(filename, df.shape))\n",
    "labels = np.array(labels)"
   ]
  },
  {
   "cell_type": "code",
   "execution_count": 252,
   "metadata": {},
   "outputs": [
    {
     "name": "stdout",
     "output_type": "stream",
     "text": [
      "(24, 4, 888)\n"
     ]
    },
    {
     "data": {
      "text/plain": [
       "array([[[ 59.105,  62.012,  44.922, ...,  15.625,  34.18 ,  45.898],\n",
       "        [ 28.32 ,  30.273,  30.273, ...,  31.738,  35.156,  35.156],\n",
       "        [ 15.137,  43.945, -97.656, ..., -60.059,  23.926, 112.793],\n",
       "        [ 12.207,  11.719,  11.23 , ...,   8.789,   8.789,  13.184]],\n",
       "\n",
       "       [[ -1.465,   8.301,  20.996, ...,  14.648,  12.207,  17.578],\n",
       "        [  6.836,   6.348,   7.812, ...,  13.672,  10.742,  10.254],\n",
       "        [ 12.695,  -2.93 ,   0.488, ...,  14.648,   5.859,  -3.906],\n",
       "        [-77.148, -81.055, -75.195, ..., -77.148, -78.613, -78.613]],\n",
       "\n",
       "       [[ 53.223,  45.41 ,  34.18 , ...,  25.879,  43.457,  40.527],\n",
       "        [ 23.926,  20.996,  19.043, ...,  30.762,  29.297,  26.855],\n",
       "        [ 14.16 ,  14.16 ,   5.371, ...,  24.414,  30.273,  25.879],\n",
       "        [  0.977,   5.371,   4.395, ..., -13.184,  -4.395,   0.977]],\n",
       "\n",
       "       ...,\n",
       "\n",
       "       [[ 18.066,  33.691,  24.902, ...,  -0.488,   0.977,  22.949],\n",
       "        [ 11.719,  20.996,  21.973, ...,  19.043,  13.672,  12.695],\n",
       "        [ -4.395,   2.441,   6.836, ...,  14.648,   4.883,   8.789],\n",
       "        [ -4.883,   1.953,   5.859, ...,   4.395,  -4.883, -10.254]],\n",
       "\n",
       "       [[ 20.996,  40.039,  48.34 , ...,  33.203,  47.852,  36.621],\n",
       "        [ 23.926,  22.949,  24.902, ...,  37.109,  35.156,  35.156],\n",
       "        [ 29.297,  28.809,  31.25 , ...,  24.902,  20.508,  18.066],\n",
       "        [ 20.02 ,  21.973,  28.32 , ...,  20.996,  26.367,  21.973]],\n",
       "\n",
       "       [[ 17.09 ,  32.227,  36.621, ...,  32.227,  32.715,  24.414],\n",
       "        [ 21.484, -12.695,  23.438, ..., 115.234,  72.266, -10.742],\n",
       "        [ 21.484,  16.602,  16.113, ...,  39.062,  29.297,  19.043],\n",
       "        [ 14.16 ,  17.09 ,  21.973, ...,  15.137,  17.09 ,  18.555]]])"
      ]
     },
     "execution_count": 252,
     "metadata": {},
     "output_type": "execute_result"
    }
   ],
   "source": [
    "data = np.array([np.transpose(df) for df in data])\n",
    "print(data.shape)\n",
    "data"
   ]
  },
  {
   "cell_type": "markdown",
   "metadata": {},
   "source": [
    "#### Label\n",
    "- 0.0 = relaxed<br>\n",
    "- 1.0 = neutral<br>\n",
    "- 2.0 = concetrating"
   ]
  },
  {
   "cell_type": "code",
   "execution_count": 253,
   "metadata": {},
   "outputs": [
    {
     "data": {
      "text/plain": [
       "array([2, 1, 1, 1, 2, 0, 1, 1, 2, 2, 1, 1, 0, 2, 2, 2, 0, 0, 1, 0, 0, 0,\n",
       "       0, 2])"
      ]
     },
     "execution_count": 253,
     "metadata": {},
     "output_type": "execute_result"
    }
   ],
   "source": [
    "labels"
   ]
  },
  {
   "cell_type": "markdown",
   "metadata": {},
   "source": [
    "### Preprocessing\n",
    "- Convert data to NHWC (trials, channels, samples, kernels) format"
   ]
  },
  {
   "cell_type": "markdown",
   "metadata": {},
   "source": [
    "#### Data Cleaning\n",
    "- Drop unnecessary columns = `['timestamps','Right AUX']`\n",
    "- Match the number of samples = `15192`"
   ]
  },
  {
   "cell_type": "code",
   "execution_count": null,
   "metadata": {},
   "outputs": [],
   "source": [
    "sub_a_relaxed = sub_a_relaxed.drop(columns=['timestamps','Right AUX'])\n",
    "sub_a_neutral = sub_a_neutral.drop(columns=['timestamps','Right AUX'])\n",
    "sub_a_concentrating = sub_a_concentrating.drop(columns=['timestamps','Right AUX'])"
   ]
  },
  {
   "cell_type": "code",
   "execution_count": 15,
   "metadata": {},
   "outputs": [
    {
     "name": "stdout",
     "output_type": "stream",
     "text": [
      "sub_a_relaxed' shape: (15192, 4)\n",
      "sub_a_neutral' shape: (15192, 4)\n",
      "sub_a_concentrating' shape: (15192, 4)\n"
     ]
    }
   ],
   "source": [
    "sub_a_relaxed = sub_a_relaxed[:15192]\n",
    "sub_a_neutral = sub_a_neutral[:15192]\n",
    "\n",
    "print('sub_a_relaxed\\' shape: {}'.format(sub_a_relaxed.shape))\n",
    "print('sub_a_neutral\\' shape: {}'.format(sub_a_neutral.shape))\n",
    "print('sub_a_concentrating\\' shape: {}'.format(sub_a_concentrating.shape))"
   ]
  },
  {
   "cell_type": "code",
   "execution_count": 24,
   "metadata": {},
   "outputs": [
    {
     "name": "stdout",
     "output_type": "stream",
     "text": [
      "(3, 4, 15192)\n"
     ]
    },
    {
     "data": {
      "text/plain": [
       "array([[[ 30.762,  26.367,  21.484, ...,  21.484,  20.996,  33.203],\n",
       "        [ 15.625,  13.672,  14.16 , ...,  22.949,  21.973,  22.461],\n",
       "        [ 29.785,  28.32 ,  28.32 , ...,  34.18 ,  33.691,  31.738],\n",
       "        [  0.977,   0.   ,   2.93 , ...,  11.23 ,   5.859,  10.254]],\n",
       "\n",
       "       [[  4.883,  19.531,  20.508, ...,  34.668,  35.156,  20.02 ],\n",
       "        [ 22.949,  22.461,  19.531, ...,  33.203,  32.715,  30.273],\n",
       "        [  8.789,   5.371,  11.23 , ...,  16.602,  18.555,  10.254],\n",
       "        [ 23.926,  28.32 ,  25.391, ...,  25.391,  35.156,  18.555]],\n",
       "\n",
       "       [[ 59.105,  62.012,  44.922, ...,  48.828,  50.293,  45.41 ],\n",
       "        [ 28.32 ,  30.273,  30.273, ...,  31.25 ,  31.25 ,  30.273],\n",
       "        [ 15.137,  43.945, -97.656, ..., 258.789, 264.16 ,  27.344],\n",
       "        [ 12.207,  11.719,  11.23 , ...,  38.086,  39.551,  39.062]]])"
      ]
     },
     "execution_count": 24,
     "metadata": {},
     "output_type": "execute_result"
    }
   ],
   "source": [
    "X = np.array([np.transpose(sub_a_relaxed), np.transpose(sub_a_neutral), np.transpose(sub_a_concentrating)])\n",
    "print(X.shape)\n",
    "X"
   ]
  },
  {
   "cell_type": "markdown",
   "metadata": {},
   "source": [
    "#### Label\n",
    "- 0.0 = relaxed<br>\n",
    "- 1.0 = neutral<br>\n",
    "- 2.0 = concetrating"
   ]
  },
  {
   "cell_type": "code",
   "execution_count": 28,
   "metadata": {},
   "outputs": [
    {
     "name": "stdout",
     "output_type": "stream",
     "text": [
      "(3,)\n"
     ]
    },
    {
     "data": {
      "text/plain": [
       "array([0., 1., 2.])"
      ]
     },
     "execution_count": 28,
     "metadata": {},
     "output_type": "execute_result"
    }
   ],
   "source": [
    "Y = np.array([0.0, 1.0, 2.0])\n",
    "print(Y.shape)\n",
    "Y"
   ]
  },
  {
   "cell_type": "markdown",
   "metadata": {},
   "source": [
    "### Feature Extraction - Denoising\n",
    "Fast Fourier Transform (FFT) - A method to remove the artifact from the recorded data, such as eye blinks"
   ]
  },
  {
   "cell_type": "code",
   "execution_count": 4,
   "metadata": {},
   "outputs": [
    {
     "name": "stdout",
     "output_type": "stream",
     "text": [
      "[ 0.00000000e+00  6.57721652e-05  1.31544330e-04 ... -1.97316496e-04\n",
      " -1.31544330e-04 -6.57721652e-05]\n"
     ]
    },
    {
     "data": {
      "text/plain": [
       "[<matplotlib.lines.Line2D at 0x1cc1784ed30>]"
      ]
     },
     "execution_count": 4,
     "metadata": {},
     "output_type": "execute_result"
    },
    {
     "data": {
      "image/png": "[encoded data removed]",
      "text/plain": [
       "<Figure size 864x432 with 1 Axes>"
      ]
     },
     "metadata": {
      "needs_background": "light"
     },
     "output_type": "display_data"
    }
   ],
   "source": [
    "import numpy.fft as fft\n",
    "spectrum = fft.fft(sub_a_relaxed['TP9'], sub_a_relaxed.shape[0])\n",
    "freq = fft.fftfreq(len(spectrum))\n",
    "print(freq)\n",
    "plt.figure(figsize=(12,6))\n",
    "plt.plot(freq, abs(spectrum))"
   ]
  },
  {
   "cell_type": "markdown",
   "metadata": {},
   "source": [
    "### Model - EEGNet (Proven to be effective in classifying EEG Data)\n",
    "Parameter settings so far: nb_classes=3, as there are 3 classes to classify: relaxed, neutral, concentrating<br>\n",
    "\n",
    "Paper - https://arxiv.org/pdf/1611.08024.pdf <br>\n",
    "Github - https://github.com/vlawhern/arl-eegmodels/blob/master/EEGModels.py <br>"
   ]
  },
  {
   "cell_type": "markdown",
   "metadata": {},
   "source": [
    "### First Demo with 15192 samples (1 min period of mental state)"
   ]
  },
  {
   "cell_type": "code",
   "execution_count": 78,
   "metadata": {},
   "outputs": [
    {
     "name": "stdout",
     "output_type": "stream",
     "text": [
      "Model: \"model_4\"\n",
      "_________________________________________________________________\n",
      "Layer (type)                 Output Shape              Param #   \n",
      "=================================================================\n",
      "input_6 (InputLayer)         [(None, 4, 15192, 1)]     0         \n",
      "_________________________________________________________________\n",
      "conv2d_5 (Conv2D)            (None, 4, 15192, 8)       60768     \n",
      "_________________________________________________________________\n",
      "batch_normalization_12 (Batc (None, 4, 15192, 8)       32        \n",
      "_________________________________________________________________\n",
      "depthwise_conv2d_4 (Depthwis (None, 1, 15192, 16)      64        \n",
      "_________________________________________________________________\n",
      "batch_normalization_13 (Batc (None, 1, 15192, 16)      64        \n",
      "_________________________________________________________________\n",
      "activation_8 (Activation)    (None, 1, 15192, 16)      0         \n",
      "_________________________________________________________________\n",
      "average_pooling2d_8 (Average (None, 1, 3798, 16)       0         \n",
      "_________________________________________________________________\n",
      "dropout_8 (Dropout)          (None, 1, 3798, 16)       0         \n",
      "_________________________________________________________________\n",
      "separable_conv2d_4 (Separabl (None, 1, 3798, 16)       512       \n",
      "_________________________________________________________________\n",
      "batch_normalization_14 (Batc (None, 1, 3798, 16)       64        \n",
      "_________________________________________________________________\n",
      "activation_9 (Activation)    (None, 1, 3798, 16)       0         \n",
      "_________________________________________________________________\n",
      "average_pooling2d_9 (Average (None, 1, 474, 16)        0         \n",
      "_________________________________________________________________\n",
      "dropout_9 (Dropout)          (None, 1, 474, 16)        0         \n",
      "_________________________________________________________________\n",
      "flatten (Flatten)            (None, 7584)              0         \n",
      "_________________________________________________________________\n",
      "dense (Dense)                (None, 3)                 22755     \n",
      "_________________________________________________________________\n",
      "softmax (Activation)         (None, 3)                 0         \n",
      "=================================================================\n",
      "Total params: 84,259\n",
      "Trainable params: 84,179\n",
      "Non-trainable params: 80\n",
      "_________________________________________________________________\n"
     ]
    }
   ],
   "source": [
    "from EEGModels import EEGNet, ShallowConvNet, DeepConvNet\n",
    "model  = EEGNet(nb_classes=3, Chans=4, Samples=X.shape[2],\n",
    "                dropoutRate = 0.5, kernLength=int(X.shape[2]/2), \n",
    "                F1=8, D=2, F2=16, dropoutType = 'Dropout')\n",
    "model.compile(loss='categorical_crossentropy', optimizer='adam', \n",
    "              metrics = ['accuracy'])\n",
    "model.summary()"
   ]
  },
  {
   "cell_type": "code",
   "execution_count": 64,
   "metadata": {},
   "outputs": [
    {
     "data": {
      "text/plain": [
       "(3, 4, 15192, 1)"
      ]
     },
     "execution_count": 64,
     "metadata": {},
     "output_type": "execute_result"
    }
   ],
   "source": [
    "X_train = X.reshape(X.shape[0], X.shape[1], X.shape[2], 1)\n",
    "X_train.shape"
   ]
  },
  {
   "cell_type": "code",
   "execution_count": 79,
   "metadata": {},
   "outputs": [
    {
     "name": "stdout",
     "output_type": "stream",
     "text": [
      "Epoch 1/5\n",
      "1/1 [==============================] - 9s 9s/step - loss: 1.2772 - accuracy: 0.6667\n",
      "Epoch 2/5\n",
      "1/1 [==============================] - 8s 8s/step - loss: 0.7128 - accuracy: 1.0000\n",
      "Epoch 3/5\n",
      "1/1 [==============================] - 8s 8s/step - loss: 0.2945 - accuracy: 1.0000\n",
      "Epoch 4/5\n",
      "1/1 [==============================] - 8s 8s/step - loss: 0.1381 - accuracy: 1.0000\n",
      "Epoch 5/5\n",
      "1/1 [==============================] - 9s 9s/step - loss: 0.0612 - accuracy: 1.0000\n"
     ]
    },
    {
     "data": {
      "text/plain": [
       "<tensorflow.python.keras.callbacks.History at 0x1cc216efdc0>"
      ]
     },
     "execution_count": 79,
     "metadata": {},
     "output_type": "execute_result"
    }
   ],
   "source": [
    "model.fit(X_train, Y_train, batch_size = 128, epochs=5)"
   ]
  },
  {
   "cell_type": "code",
   "execution_count": 94,
   "metadata": {},
   "outputs": [
    {
     "name": "stdout",
     "output_type": "stream",
     "text": [
      "sub_b_relaxed shape: (15192, 4)\n"
     ]
    }
   ],
   "source": [
    "# Using as a test dataset\n",
    "sub_b_relaxed = pd.read_csv(os.getcwd() + '/eeg-feature-generation/dataset/original_data/subjectb-relaxed-1.csv')\n",
    "sub_b_relaxed = sub_b_relaxed.drop(columns=['timestamps','Right AUX'])\n",
    "sub_b_relaxed = sub_b_relaxed[:15192]\n",
    "print('sub_b_relaxed shape: {}'.format(sub_b_relaxed.shape))"
   ]
  },
  {
   "cell_type": "code",
   "execution_count": 95,
   "metadata": {},
   "outputs": [
    {
     "name": "stdout",
     "output_type": "stream",
     "text": [
      "(1, 4, 15192)\n"
     ]
    },
    {
     "data": {
      "text/plain": [
       "array([[[ 43.457,  57.617,  41.504, ...,  17.09 ,  21.973,  47.363],\n",
       "        [ 39.551,  40.039,  41.016, ...,  22.949,  30.762,  35.156],\n",
       "        [ 48.828,  48.34 ,  47.852, ...,  22.949,  20.508,  27.832],\n",
       "        [ 19.043,  23.438,  25.879, ..., -19.043, -20.508, -13.672]]])"
      ]
     },
     "execution_count": 95,
     "metadata": {},
     "output_type": "execute_result"
    }
   ],
   "source": [
    "X_test = np.array([np.transpose(sub_b_relaxed)])\n",
    "print(X_test.shape)\n",
    "X_test"
   ]
  },
  {
   "cell_type": "code",
   "execution_count": 96,
   "metadata": {},
   "outputs": [
    {
     "data": {
      "text/plain": [
       "(1, 4, 15192, 1)"
      ]
     },
     "execution_count": 96,
     "metadata": {},
     "output_type": "execute_result"
    }
   ],
   "source": [
    "X_test = X_test.reshape(X_test.shape[0], X_test.shape[1], X_test.shape[2], 1)\n",
    "X_test.shape"
   ]
  },
  {
   "cell_type": "code",
   "execution_count": 119,
   "metadata": {},
   "outputs": [
    {
     "name": "stdout",
     "output_type": "stream",
     "text": [
      "(1,)\n"
     ]
    },
    {
     "data": {
      "text/plain": [
       "array([0])"
      ]
     },
     "execution_count": 119,
     "metadata": {},
     "output_type": "execute_result"
    }
   ],
   "source": [
    "Y_test = np.array([0])\n",
    "print(Y_test.shape)\n",
    "Y_test"
   ]
  },
  {
   "cell_type": "code",
   "execution_count": 120,
   "metadata": {},
   "outputs": [
    {
     "name": "stdout",
     "output_type": "stream",
     "text": [
      "(1, 3)\n"
     ]
    },
    {
     "data": {
      "text/plain": [
       "array([[1., 0., 0.]], dtype=float32)"
      ]
     },
     "execution_count": 120,
     "metadata": {},
     "output_type": "execute_result"
    }
   ],
   "source": [
    "Y_test = np_utils.to_categorical(Y_test, num_classes=3)\n",
    "print(Y_test.shape)\n",
    "Y_test"
   ]
  },
  {
   "cell_type": "code",
   "execution_count": 102,
   "metadata": {},
   "outputs": [
    {
     "data": {
      "text/plain": [
       "array([[0.10493065, 0.13374467, 0.7613246 ]], dtype=float32)"
      ]
     },
     "execution_count": 102,
     "metadata": {},
     "output_type": "execute_result"
    }
   ],
   "source": [
    "probs = model.predict(X_test)\n",
    "probs"
   ]
  },
  {
   "cell_type": "code",
   "execution_count": 100,
   "metadata": {},
   "outputs": [
    {
     "data": {
      "text/plain": [
       "array([2], dtype=int64)"
      ]
     },
     "execution_count": 100,
     "metadata": {},
     "output_type": "execute_result"
    }
   ],
   "source": [
    "preds = probs.argmax(axis = -1)  \n",
    "preds"
   ]
  },
  {
   "cell_type": "code",
   "execution_count": 121,
   "metadata": {},
   "outputs": [
    {
     "name": "stdout",
     "output_type": "stream",
     "text": [
      "Classification accuracy: 0.000000 \n"
     ]
    }
   ],
   "source": [
    "acc = np.mean(preds == Y_test.argmax(axis=-1))\n",
    "print(\"Classification accuracy: %f \" % (acc))"
   ]
  },
  {
   "cell_type": "code",
   "execution_count": 81,
   "metadata": {},
   "outputs": [],
   "source": [
    "model.save('suba-1_checkpoint.h5')"
   ]
  },
  {
   "cell_type": "markdown",
   "metadata": {},
   "source": [
    "### Second Demo"
   ]
  },
  {
   "cell_type": "code",
   "execution_count": 267,
   "metadata": {},
   "outputs": [],
   "source": [
    "kernels, chans, samples = 1, 4, 888"
   ]
  },
  {
   "cell_type": "code",
   "execution_count": 268,
   "metadata": {},
   "outputs": [
    {
     "name": "stdout",
     "output_type": "stream",
     "text": [
      "Model: \"model_6\"\n",
      "_________________________________________________________________\n",
      "Layer (type)                 Output Shape              Param #   \n",
      "=================================================================\n",
      "input_8 (InputLayer)         [(None, 4, 888, 1)]       0         \n",
      "_________________________________________________________________\n",
      "conv2d_7 (Conv2D)            (None, 4, 888, 8)         3552      \n",
      "_________________________________________________________________\n",
      "batch_normalization_18 (Batc (None, 4, 888, 8)         32        \n",
      "_________________________________________________________________\n",
      "depthwise_conv2d_6 (Depthwis (None, 1, 888, 16)        64        \n",
      "_________________________________________________________________\n",
      "batch_normalization_19 (Batc (None, 1, 888, 16)        64        \n",
      "_________________________________________________________________\n",
      "activation_12 (Activation)   (None, 1, 888, 16)        0         \n",
      "_________________________________________________________________\n",
      "average_pooling2d_12 (Averag (None, 1, 222, 16)        0         \n",
      "_________________________________________________________________\n",
      "dropout_12 (Dropout)         (None, 1, 222, 16)        0         \n",
      "_________________________________________________________________\n",
      "separable_conv2d_6 (Separabl (None, 1, 222, 16)        512       \n",
      "_________________________________________________________________\n",
      "batch_normalization_20 (Batc (None, 1, 222, 16)        64        \n",
      "_________________________________________________________________\n",
      "activation_13 (Activation)   (None, 1, 222, 16)        0         \n",
      "_________________________________________________________________\n",
      "average_pooling2d_13 (Averag (None, 1, 27, 16)         0         \n",
      "_________________________________________________________________\n",
      "dropout_13 (Dropout)         (None, 1, 27, 16)         0         \n",
      "_________________________________________________________________\n",
      "flatten (Flatten)            (None, 432)               0         \n",
      "_________________________________________________________________\n",
      "dense (Dense)                (None, 3)                 1299      \n",
      "_________________________________________________________________\n",
      "softmax (Activation)         (None, 3)                 0         \n",
      "=================================================================\n",
      "Total params: 5,587\n",
      "Trainable params: 5,507\n",
      "Non-trainable params: 80\n",
      "_________________________________________________________________\n"
     ]
    }
   ],
   "source": [
    "from EEGModels import EEGNet, ShallowConvNet, DeepConvNet\n",
    "model  = EEGNet(nb_classes=3, Chans=chans, Samples=samples,\n",
    "                dropoutRate = 0.5, kernLength=int(samples/2), \n",
    "                F1=8, D=2, F2=16, dropoutType = 'Dropout')\n",
    "model.compile(loss='categorical_crossentropy', optimizer='adam', \n",
    "              metrics = ['accuracy'])\n",
    "model.summary()"
   ]
  },
  {
   "cell_type": "code",
   "execution_count": 258,
   "metadata": {},
   "outputs": [
    {
     "name": "stdout",
     "output_type": "stream",
     "text": [
      "X_train.shape = (18, 4, 888, 1)\n",
      "X_test.shape = (3, 4, 888, 1)\n",
      "X_val.shape = (3, 4, 888, 1)\n"
     ]
    }
   ],
   "source": [
    "X_train = data[:18]\n",
    "X_train = X_train.reshape(X_train.shape[0], X_train.shape[1], X_train.shape[2], 1)\n",
    "print('X_train.shape = {}'.format(X_train.shape))\n",
    "\n",
    "X_test = data[18:21]\n",
    "X_test = X_test.reshape(X_test.shape[0], X_test.shape[1], X_test.shape[2], 1)\n",
    "print('X_test.shape = {}'.format(X_test.shape))\n",
    "\n",
    "X_val = data[21:24]\n",
    "X_val = X_val.reshape(X_val.shape[0], X_val.shape[1], X_val.shape[2], 1)\n",
    "print('X_val.shape = {}'.format(X_val.shape))"
   ]
  },
  {
   "cell_type": "code",
   "execution_count": 259,
   "metadata": {},
   "outputs": [
    {
     "data": {
      "text/plain": [
       "array([2, 1, 1, 1, 2, 0, 1, 1, 2, 2, 1, 1, 0, 2, 2, 2, 0, 0, 1, 0, 0, 0,\n",
       "       0, 2])"
      ]
     },
     "execution_count": 259,
     "metadata": {},
     "output_type": "execute_result"
    }
   ],
   "source": [
    "labels"
   ]
  },
  {
   "cell_type": "code",
   "execution_count": 270,
   "metadata": {},
   "outputs": [
    {
     "name": "stdout",
     "output_type": "stream",
     "text": [
      "Y_train.shape = (18, 3)\n",
      "Y_test.shape = (3, 3)\n",
      "Y_val.shape = (3, 3)\n"
     ]
    }
   ],
   "source": [
    "from tensorflow.keras import utils as np_utils\n",
    "Y_train = labels[:18]\n",
    "Y_train = np_utils.to_categorical(Y_train, num_classes=3)\n",
    "print('Y_train.shape = {}'.format(Y_train.shape))\n",
    "\n",
    "\n",
    "Y_test = labels[18:21]\n",
    "Y_test = np_utils.to_categorical(Y_test, num_classes=3)\n",
    "print('Y_test.shape = {}'.format(Y_test.shape))\n",
    "\n",
    "Y_val = labels[21:24]\n",
    "Y_val = np_utils.to_categorical(Y_val, num_classes=3)\n",
    "print('Y_val.shape = {}'.format(Y_val.shape))"
   ]
  },
  {
   "cell_type": "code",
   "execution_count": 274,
   "metadata": {},
   "outputs": [
    {
     "name": "stdout",
     "output_type": "stream",
     "text": [
      "Epoch 1/5\n",
      "2/2 - 0s - loss: 0.7189 - accuracy: 0.7222 - val_loss: 1.1016 - val_accuracy: 0.3333\n",
      "Epoch 2/5\n",
      "2/2 - 0s - loss: 0.7414 - accuracy: 0.7222 - val_loss: 1.1017 - val_accuracy: 0.3333\n",
      "Epoch 3/5\n",
      "2/2 - 0s - loss: 0.6490 - accuracy: 0.7222 - val_loss: 1.1023 - val_accuracy: 0.0000e+00\n",
      "Epoch 4/5\n",
      "2/2 - 0s - loss: 0.6755 - accuracy: 0.7222 - val_loss: 1.1057 - val_accuracy: 0.0000e+00\n",
      "Epoch 5/5\n",
      "2/2 - 0s - loss: 0.6400 - accuracy: 0.8333 - val_loss: 1.1034 - val_accuracy: 0.0000e+00\n"
     ]
    },
    {
     "data": {
      "text/plain": [
       "<tensorflow.python.keras.callbacks.History at 0x1cc2152cf10>"
      ]
     },
     "execution_count": 274,
     "metadata": {},
     "output_type": "execute_result"
    }
   ],
   "source": [
    "model.fit(X_train, Y_train, batch_size = 16, epochs=5,\n",
    "         verbose = 2, validation_data=(X_val, Y_val))"
   ]
  },
  {
   "cell_type": "code",
   "execution_count": 275,
   "metadata": {},
   "outputs": [
    {
     "name": "stdout",
     "output_type": "stream",
     "text": [
      "Classification accuracy: 0.333333 \n"
     ]
    }
   ],
   "source": [
    "probs       = model.predict(X_test)\n",
    "preds       = probs.argmax(axis = -1)  \n",
    "acc         = np.mean(preds == Y_test.argmax(axis=-1))\n",
    "print(\"Classification accuracy: %f \" % (acc))"
   ]
  }
 ],
 "metadata": {
  "kernelspec": {
   "display_name": "Python 3",
   "language": "python",
   "name": "python3"
  },
  "language_info": {
   "codemirror_mode": {
    "name": "ipython",
    "version": 3
   },
   "file_extension": ".py",
   "mimetype": "text/x-python",
   "name": "python",
   "nbconvert_exporter": "python",
   "pygments_lexer": "ipython3",
   "version": "3.8.5"
  }
 },
 "nbformat": 4,
 "nbformat_minor": 4
}
